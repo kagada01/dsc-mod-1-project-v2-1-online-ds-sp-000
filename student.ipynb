{
 "cells": [
  {
   "cell_type": "markdown",
   "metadata": {},
   "source": [
    "## Final Project Submission\n",
    "\n",
    "Please fill out:\n",
    "* Student name: \n",
    "* Student pace: self paced / part time / full time\n",
    "* Scheduled project review date/time: \n",
    "* Instructor name: \n",
    "* Blog post URL:\n"
   ]
  },
  {
   "cell_type": "code",
   "execution_count": null,
   "metadata": {},
   "outputs": [],
   "source": [
    "#Dan Kagan | Online Self-Paced | PROJECT TIME | \n",
    "#Instructor: Jeff Herman | https://medium.com/@dankagan7/data-science-and-me-1d3e8a7d8bf2\n",
    "\n",
    "\n",
    "###Questions for Research\n",
    "# What genre are the top 25 grossing movies? Domestic? Foreign? Both?\n",
    "# What kind of dropoffs are there by gross rank - who stands out?\n",
    "# Most successful studios? What kind of movies do they make? Are they good to imitate?\n",
    "# Identify the most successul directors & actors (matches on titles) Strategy based off results?\n",
    "# Check success of movies that receives good ratings - how much does it help with success?\n",
    "# Sort by top ratings by reviewers. Any patterns?\n",
    "# Movies table -> Revisit table\n",
    "# Patterns in movie_budgets?"
   ]
  }
 ],
 "metadata": {
  "kernelspec": {
   "display_name": "Python 3",
   "language": "python",
   "name": "python3"
  },
  "language_info": {
   "codemirror_mode": {
    "name": "ipython",
    "version": 3
   },
   "file_extension": ".py",
   "mimetype": "text/x-python",
   "name": "python",
   "nbconvert_exporter": "python",
   "pygments_lexer": "ipython3",
   "version": "3.7.6"
  }
 },
 "nbformat": 4,
 "nbformat_minor": 2
}
